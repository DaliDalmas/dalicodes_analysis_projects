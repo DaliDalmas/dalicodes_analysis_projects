{
 "cells": [
  {
   "cell_type": "code",
   "execution_count": 95,
   "id": "skilled-wings",
   "metadata": {},
   "outputs": [],
   "source": [
    "import pandas as pd"
   ]
  },
  {
   "cell_type": "code",
   "execution_count": 96,
   "id": "signed-patent",
   "metadata": {},
   "outputs": [
    {
     "name": "stdout",
     "output_type": "stream",
     "text": [
      "(23001, 19)\n",
      "Index(['Sphere', 'FinancialYear', 'TypeOfInfo', 'FundType', 'SectorCode',\n",
      "       'SectorName', 'VoteCode', 'VoteName', 'ProgramCode', 'ProgrammeName',\n",
      "       'SubProgramCode', 'SubProgramName', 'KeyOutputCode',\n",
      "       'KeyOutputDescription', 'ItemCode', 'Description', 'ClassCode', 'Class',\n",
      "       'Amount'],\n",
      "      dtype='object')\n"
     ]
    }
   ],
   "source": [
    "_20_21 = pd.read_excel('data/budget/20_21_ApprovedBudget_Nat.xlsx')\n",
    "print(_20_21.shape)\n",
    "print(_20_21.columns)"
   ]
  },
  {
   "cell_type": "code",
   "execution_count": 97,
   "id": "balanced-renewal",
   "metadata": {},
   "outputs": [],
   "source": [
    "columns_names = _20_21.columns"
   ]
  },
  {
   "cell_type": "code",
   "execution_count": 98,
   "id": "comic-stevens",
   "metadata": {},
   "outputs": [
    {
     "name": "stdout",
     "output_type": "stream",
     "text": [
      "(22653, 19)\n"
     ]
    }
   ],
   "source": [
    "_19_20 = pd.read_excel('data/budget/19_20_ApprovedBudget_Nat.xlsx')\n",
    "print(_19_20.shape)\n",
    "_19_20.columns = columns_names"
   ]
  },
  {
   "cell_type": "code",
   "execution_count": 99,
   "id": "norman-scene",
   "metadata": {},
   "outputs": [],
   "source": [
    "_18_19 = pd.read_excel('data/budget/18_19_ApprovedBudget_Nat.xlsx')\n",
    "_18_19.columns = columns_names"
   ]
  },
  {
   "cell_type": "code",
   "execution_count": 100,
   "id": "brave-estonia",
   "metadata": {},
   "outputs": [],
   "source": [
    "_17_18 = pd.read_excel('data/budget/17_18_ApprovedBudget_Nat_0.xlsx')\n",
    "_17_18.columns = columns_names"
   ]
  },
  {
   "cell_type": "code",
   "execution_count": 101,
   "id": "systematic-mitchell",
   "metadata": {},
   "outputs": [],
   "source": [
    "_16_17 = pd.read_excel('data/budget/16_17_ApprovedBudget_Nat.xlsx')\n",
    "_16_17.columns = columns_names"
   ]
  },
  {
   "cell_type": "code",
   "execution_count": 102,
   "id": "featured-domestic",
   "metadata": {},
   "outputs": [],
   "source": [
    "_15_16 = pd.read_excel('data/budget/15_16_ApprovedBudget_Nat.xlsx')\n",
    "_15_16.columns = columns_names"
   ]
  },
  {
   "cell_type": "code",
   "execution_count": 103,
   "id": "through-prospect",
   "metadata": {},
   "outputs": [],
   "source": [
    "data=pd.concat([_20_21,_19_20,_18_19,_17_18,_15_16])"
   ]
  },
  {
   "cell_type": "code",
   "execution_count": 104,
   "id": "guilty-vision",
   "metadata": {},
   "outputs": [
    {
     "data": {
      "text/plain": [
       "array(['20-21', '19-20', '18-19', '17-18', '15-16'], dtype=object)"
      ]
     },
     "execution_count": 104,
     "metadata": {},
     "output_type": "execute_result"
    }
   ],
   "source": [
    "data.FinancialYear = data.FinancialYear.apply(lambda x: x.replace('2021','21').replace('/','-')[2:])\n",
    "data.FinancialYear.unique()"
   ]
  },
  {
   "cell_type": "code",
   "execution_count": 105,
   "id": "native-winter",
   "metadata": {},
   "outputs": [
    {
     "data": {
      "text/html": [
       "<div>\n",
       "<style scoped>\n",
       "    .dataframe tbody tr th:only-of-type {\n",
       "        vertical-align: middle;\n",
       "    }\n",
       "\n",
       "    .dataframe tbody tr th {\n",
       "        vertical-align: top;\n",
       "    }\n",
       "\n",
       "    .dataframe thead th {\n",
       "        text-align: right;\n",
       "    }\n",
       "</style>\n",
       "<table border=\"1\" class=\"dataframe\">\n",
       "  <thead>\n",
       "    <tr style=\"text-align: right;\">\n",
       "      <th></th>\n",
       "      <th>Sphere</th>\n",
       "      <th>FinancialYear</th>\n",
       "      <th>TypeOfInfo</th>\n",
       "      <th>FundType</th>\n",
       "      <th>SectorCode</th>\n",
       "      <th>SectorName</th>\n",
       "      <th>VoteCode</th>\n",
       "      <th>VoteName</th>\n",
       "      <th>ProgramCode</th>\n",
       "      <th>ProgrammeName</th>\n",
       "      <th>SubProgramCode</th>\n",
       "      <th>SubProgramName</th>\n",
       "      <th>KeyOutputCode</th>\n",
       "      <th>KeyOutputDescription</th>\n",
       "      <th>ItemCode</th>\n",
       "      <th>Description</th>\n",
       "      <th>ClassCode</th>\n",
       "      <th>Class</th>\n",
       "      <th>Amount</th>\n",
       "    </tr>\n",
       "  </thead>\n",
       "  <tbody>\n",
       "    <tr>\n",
       "      <th>0</th>\n",
       "      <td>National</td>\n",
       "      <td>20-21</td>\n",
       "      <td>Approved</td>\n",
       "      <td>GouDev</td>\n",
       "      <td>20</td>\n",
       "      <td>Local Government</td>\n",
       "      <td>11</td>\n",
       "      <td>Ministry of Local Government</td>\n",
       "      <td>49</td>\n",
       "      <td>Policy, Planning and Support Services</td>\n",
       "      <td>1652</td>\n",
       "      <td>Retooling of Ministry of Local Government</td>\n",
       "      <td>1</td>\n",
       "      <td>Ministry Support Services provided</td>\n",
       "      <td>221001</td>\n",
       "      <td>Advertising and Public Relations</td>\n",
       "      <td>221.0</td>\n",
       "      <td>General Expenses</td>\n",
       "      <td>20000000.0</td>\n",
       "    </tr>\n",
       "    <tr>\n",
       "      <th>1</th>\n",
       "      <td>National</td>\n",
       "      <td>20-21</td>\n",
       "      <td>Approved</td>\n",
       "      <td>GouDev</td>\n",
       "      <td>20</td>\n",
       "      <td>Local Government</td>\n",
       "      <td>11</td>\n",
       "      <td>Ministry of Local Government</td>\n",
       "      <td>49</td>\n",
       "      <td>Policy, Planning and Support Services</td>\n",
       "      <td>1652</td>\n",
       "      <td>Retooling of Ministry of Local Government</td>\n",
       "      <td>1</td>\n",
       "      <td>Ministry Support Services provided</td>\n",
       "      <td>221008</td>\n",
       "      <td>Computer supplies and Information Technology (IT)</td>\n",
       "      <td>221.0</td>\n",
       "      <td>General Expenses</td>\n",
       "      <td>6000000.0</td>\n",
       "    </tr>\n",
       "    <tr>\n",
       "      <th>2</th>\n",
       "      <td>National</td>\n",
       "      <td>20-21</td>\n",
       "      <td>Approved</td>\n",
       "      <td>GouDev</td>\n",
       "      <td>20</td>\n",
       "      <td>Local Government</td>\n",
       "      <td>11</td>\n",
       "      <td>Ministry of Local Government</td>\n",
       "      <td>49</td>\n",
       "      <td>Policy, Planning and Support Services</td>\n",
       "      <td>1652</td>\n",
       "      <td>Retooling of Ministry of Local Government</td>\n",
       "      <td>1</td>\n",
       "      <td>Ministry Support Services provided</td>\n",
       "      <td>225001</td>\n",
       "      <td>Consultancy Services- Short term</td>\n",
       "      <td>225.0</td>\n",
       "      <td>Professional Services</td>\n",
       "      <td>59500000.0</td>\n",
       "    </tr>\n",
       "    <tr>\n",
       "      <th>3</th>\n",
       "      <td>National</td>\n",
       "      <td>20-21</td>\n",
       "      <td>Approved</td>\n",
       "      <td>GouDev</td>\n",
       "      <td>20</td>\n",
       "      <td>Local Government</td>\n",
       "      <td>11</td>\n",
       "      <td>Ministry of Local Government</td>\n",
       "      <td>49</td>\n",
       "      <td>Policy, Planning and Support Services</td>\n",
       "      <td>1652</td>\n",
       "      <td>Retooling of Ministry of Local Government</td>\n",
       "      <td>1</td>\n",
       "      <td>Ministry Support Services provided</td>\n",
       "      <td>227001</td>\n",
       "      <td>Travel inland</td>\n",
       "      <td>227.0</td>\n",
       "      <td>Travel and Transport</td>\n",
       "      <td>100000000.0</td>\n",
       "    </tr>\n",
       "    <tr>\n",
       "      <th>4</th>\n",
       "      <td>National</td>\n",
       "      <td>20-21</td>\n",
       "      <td>Approved</td>\n",
       "      <td>GouDev</td>\n",
       "      <td>20</td>\n",
       "      <td>Local Government</td>\n",
       "      <td>11</td>\n",
       "      <td>Ministry of Local Government</td>\n",
       "      <td>49</td>\n",
       "      <td>Policy, Planning and Support Services</td>\n",
       "      <td>1652</td>\n",
       "      <td>Retooling of Ministry of Local Government</td>\n",
       "      <td>1</td>\n",
       "      <td>Ministry Support Services provided</td>\n",
       "      <td>227002</td>\n",
       "      <td>Travel abroad</td>\n",
       "      <td>227.0</td>\n",
       "      <td>Travel and Transport</td>\n",
       "      <td>100000000.0</td>\n",
       "    </tr>\n",
       "  </tbody>\n",
       "</table>\n",
       "</div>"
      ],
      "text/plain": [
       "     Sphere FinancialYear TypeOfInfo FundType  SectorCode        SectorName  \\\n",
       "0  National         20-21   Approved   GouDev          20  Local Government   \n",
       "1  National         20-21   Approved   GouDev          20  Local Government   \n",
       "2  National         20-21   Approved   GouDev          20  Local Government   \n",
       "3  National         20-21   Approved   GouDev          20  Local Government   \n",
       "4  National         20-21   Approved   GouDev          20  Local Government   \n",
       "\n",
       "   VoteCode                      VoteName  ProgramCode  \\\n",
       "0        11  Ministry of Local Government           49   \n",
       "1        11  Ministry of Local Government           49   \n",
       "2        11  Ministry of Local Government           49   \n",
       "3        11  Ministry of Local Government           49   \n",
       "4        11  Ministry of Local Government           49   \n",
       "\n",
       "                           ProgrammeName SubProgramCode  \\\n",
       "0  Policy, Planning and Support Services           1652   \n",
       "1  Policy, Planning and Support Services           1652   \n",
       "2  Policy, Planning and Support Services           1652   \n",
       "3  Policy, Planning and Support Services           1652   \n",
       "4  Policy, Planning and Support Services           1652   \n",
       "\n",
       "                              SubProgramName  KeyOutputCode  \\\n",
       "0  Retooling of Ministry of Local Government              1   \n",
       "1  Retooling of Ministry of Local Government              1   \n",
       "2  Retooling of Ministry of Local Government              1   \n",
       "3  Retooling of Ministry of Local Government              1   \n",
       "4  Retooling of Ministry of Local Government              1   \n",
       "\n",
       "                 KeyOutputDescription  ItemCode  \\\n",
       "0  Ministry Support Services provided    221001   \n",
       "1  Ministry Support Services provided    221008   \n",
       "2  Ministry Support Services provided    225001   \n",
       "3  Ministry Support Services provided    227001   \n",
       "4  Ministry Support Services provided    227002   \n",
       "\n",
       "                                         Description  ClassCode  \\\n",
       "0                   Advertising and Public Relations      221.0   \n",
       "1  Computer supplies and Information Technology (IT)      221.0   \n",
       "2                   Consultancy Services- Short term      225.0   \n",
       "3                                      Travel inland      227.0   \n",
       "4                                      Travel abroad      227.0   \n",
       "\n",
       "                   Class       Amount  \n",
       "0       General Expenses   20000000.0  \n",
       "1       General Expenses    6000000.0  \n",
       "2  Professional Services   59500000.0  \n",
       "3   Travel and Transport  100000000.0  \n",
       "4   Travel and Transport  100000000.0  "
      ]
     },
     "execution_count": 105,
     "metadata": {},
     "output_type": "execute_result"
    }
   ],
   "source": [
    "data.head()"
   ]
  },
  {
   "cell_type": "code",
   "execution_count": 106,
   "id": "elect-mercy",
   "metadata": {},
   "outputs": [
    {
     "data": {
      "text/plain": [
       "array(['National'], dtype=object)"
      ]
     },
     "execution_count": 106,
     "metadata": {},
     "output_type": "execute_result"
    }
   ],
   "source": [
    "data.Sphere.unique()"
   ]
  },
  {
   "cell_type": "code",
   "execution_count": 107,
   "id": "outdoor-central",
   "metadata": {},
   "outputs": [],
   "source": [
    "data = data.drop(['Sphere','TypeOfInfo','KeyOutputCode','ItemCode','ClassCode','SubProgramCode','ProgramCode','VoteCode','SectorCode'],axis=1)"
   ]
  },
  {
   "cell_type": "code",
   "execution_count": 109,
   "id": "friendly-panic",
   "metadata": {},
   "outputs": [
    {
     "data": {
      "text/html": [
       "<div>\n",
       "<style scoped>\n",
       "    .dataframe tbody tr th:only-of-type {\n",
       "        vertical-align: middle;\n",
       "    }\n",
       "\n",
       "    .dataframe tbody tr th {\n",
       "        vertical-align: top;\n",
       "    }\n",
       "\n",
       "    .dataframe thead th {\n",
       "        text-align: right;\n",
       "    }\n",
       "</style>\n",
       "<table border=\"1\" class=\"dataframe\">\n",
       "  <thead>\n",
       "    <tr style=\"text-align: right;\">\n",
       "      <th></th>\n",
       "      <th>FinancialYear</th>\n",
       "      <th>FundType</th>\n",
       "      <th>SectorName</th>\n",
       "      <th>VoteName</th>\n",
       "      <th>ProgrammeName</th>\n",
       "      <th>SubProgramName</th>\n",
       "      <th>KeyOutputDescription</th>\n",
       "      <th>Description</th>\n",
       "      <th>Class</th>\n",
       "      <th>Amount</th>\n",
       "    </tr>\n",
       "  </thead>\n",
       "  <tbody>\n",
       "    <tr>\n",
       "      <th>0</th>\n",
       "      <td>20-21</td>\n",
       "      <td>GouDev</td>\n",
       "      <td>Local Government</td>\n",
       "      <td>Ministry of Local Government</td>\n",
       "      <td>Policy, Planning and Support Services</td>\n",
       "      <td>Retooling of Ministry of Local Government</td>\n",
       "      <td>Ministry Support Services provided</td>\n",
       "      <td>Advertising and Public Relations</td>\n",
       "      <td>General Expenses</td>\n",
       "      <td>20000000.0</td>\n",
       "    </tr>\n",
       "    <tr>\n",
       "      <th>1</th>\n",
       "      <td>20-21</td>\n",
       "      <td>GouDev</td>\n",
       "      <td>Local Government</td>\n",
       "      <td>Ministry of Local Government</td>\n",
       "      <td>Policy, Planning and Support Services</td>\n",
       "      <td>Retooling of Ministry of Local Government</td>\n",
       "      <td>Ministry Support Services provided</td>\n",
       "      <td>Computer supplies and Information Technology (IT)</td>\n",
       "      <td>General Expenses</td>\n",
       "      <td>6000000.0</td>\n",
       "    </tr>\n",
       "    <tr>\n",
       "      <th>2</th>\n",
       "      <td>20-21</td>\n",
       "      <td>GouDev</td>\n",
       "      <td>Local Government</td>\n",
       "      <td>Ministry of Local Government</td>\n",
       "      <td>Policy, Planning and Support Services</td>\n",
       "      <td>Retooling of Ministry of Local Government</td>\n",
       "      <td>Ministry Support Services provided</td>\n",
       "      <td>Consultancy Services- Short term</td>\n",
       "      <td>Professional Services</td>\n",
       "      <td>59500000.0</td>\n",
       "    </tr>\n",
       "    <tr>\n",
       "      <th>3</th>\n",
       "      <td>20-21</td>\n",
       "      <td>GouDev</td>\n",
       "      <td>Local Government</td>\n",
       "      <td>Ministry of Local Government</td>\n",
       "      <td>Policy, Planning and Support Services</td>\n",
       "      <td>Retooling of Ministry of Local Government</td>\n",
       "      <td>Ministry Support Services provided</td>\n",
       "      <td>Travel inland</td>\n",
       "      <td>Travel and Transport</td>\n",
       "      <td>100000000.0</td>\n",
       "    </tr>\n",
       "    <tr>\n",
       "      <th>4</th>\n",
       "      <td>20-21</td>\n",
       "      <td>GouDev</td>\n",
       "      <td>Local Government</td>\n",
       "      <td>Ministry of Local Government</td>\n",
       "      <td>Policy, Planning and Support Services</td>\n",
       "      <td>Retooling of Ministry of Local Government</td>\n",
       "      <td>Ministry Support Services provided</td>\n",
       "      <td>Travel abroad</td>\n",
       "      <td>Travel and Transport</td>\n",
       "      <td>100000000.0</td>\n",
       "    </tr>\n",
       "  </tbody>\n",
       "</table>\n",
       "</div>"
      ],
      "text/plain": [
       "  FinancialYear FundType        SectorName                      VoteName  \\\n",
       "0         20-21   GouDev  Local Government  Ministry of Local Government   \n",
       "1         20-21   GouDev  Local Government  Ministry of Local Government   \n",
       "2         20-21   GouDev  Local Government  Ministry of Local Government   \n",
       "3         20-21   GouDev  Local Government  Ministry of Local Government   \n",
       "4         20-21   GouDev  Local Government  Ministry of Local Government   \n",
       "\n",
       "                           ProgrammeName  \\\n",
       "0  Policy, Planning and Support Services   \n",
       "1  Policy, Planning and Support Services   \n",
       "2  Policy, Planning and Support Services   \n",
       "3  Policy, Planning and Support Services   \n",
       "4  Policy, Planning and Support Services   \n",
       "\n",
       "                              SubProgramName  \\\n",
       "0  Retooling of Ministry of Local Government   \n",
       "1  Retooling of Ministry of Local Government   \n",
       "2  Retooling of Ministry of Local Government   \n",
       "3  Retooling of Ministry of Local Government   \n",
       "4  Retooling of Ministry of Local Government   \n",
       "\n",
       "                 KeyOutputDescription  \\\n",
       "0  Ministry Support Services provided   \n",
       "1  Ministry Support Services provided   \n",
       "2  Ministry Support Services provided   \n",
       "3  Ministry Support Services provided   \n",
       "4  Ministry Support Services provided   \n",
       "\n",
       "                                         Description                  Class  \\\n",
       "0                   Advertising and Public Relations       General Expenses   \n",
       "1  Computer supplies and Information Technology (IT)       General Expenses   \n",
       "2                   Consultancy Services- Short term  Professional Services   \n",
       "3                                      Travel inland   Travel and Transport   \n",
       "4                                      Travel abroad   Travel and Transport   \n",
       "\n",
       "        Amount  \n",
       "0   20000000.0  \n",
       "1    6000000.0  \n",
       "2   59500000.0  \n",
       "3  100000000.0  \n",
       "4  100000000.0  "
      ]
     },
     "execution_count": 109,
     "metadata": {},
     "output_type": "execute_result"
    }
   ],
   "source": [
    "data.head()"
   ]
  },
  {
   "cell_type": "code",
   "execution_count": 110,
   "id": "gothic-commerce",
   "metadata": {},
   "outputs": [
    {
     "data": {
      "text/plain": [
       "(105978, 10)"
      ]
     },
     "execution_count": 110,
     "metadata": {},
     "output_type": "execute_result"
    }
   ],
   "source": [
    "data.shape"
   ]
  },
  {
   "cell_type": "code",
   "execution_count": 112,
   "id": "geological-service",
   "metadata": {},
   "outputs": [],
   "source": [
    "data.to_csv('data/budget/all_budgets.csv',index=False)"
   ]
  },
  {
   "cell_type": "code",
   "execution_count": null,
   "id": "greatest-microwave",
   "metadata": {},
   "outputs": [],
   "source": []
  }
 ],
 "metadata": {
  "kernelspec": {
   "display_name": "Python 3",
   "language": "python",
   "name": "python3"
  },
  "language_info": {
   "codemirror_mode": {
    "name": "ipython",
    "version": 3
   },
   "file_extension": ".py",
   "mimetype": "text/x-python",
   "name": "python",
   "nbconvert_exporter": "python",
   "pygments_lexer": "ipython3",
   "version": "3.8.5"
  }
 },
 "nbformat": 4,
 "nbformat_minor": 5
}
